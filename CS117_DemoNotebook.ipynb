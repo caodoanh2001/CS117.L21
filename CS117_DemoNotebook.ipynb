{
  "nbformat": 4,
  "nbformat_minor": 0,
  "metadata": {
    "colab": {
      "name": "CS117_DemoNotebook.ipynb",
      "private_outputs": true,
      "provenance": [],
      "machine_shape": "hm"
    },
    "kernelspec": {
      "name": "python3",
      "display_name": "Python 3"
    },
    "language_info": {
      "name": "python"
    },
    "accelerator": "GPU"
  },
  "cells": [
    {
      "cell_type": "code",
      "metadata": {
        "id": "VFFJ_NuU3s61"
      },
      "source": [
        "from google.colab import drive\n",
        "drive.mount('/content/drive')"
      ],
      "execution_count": null,
      "outputs": []
    },
    {
      "cell_type": "code",
      "metadata": {
        "id": "yor3xBih6Fg3"
      },
      "source": [
        "%cd /content/drive/MyDrive/CS117"
      ],
      "execution_count": null,
      "outputs": []
    },
    {
      "cell_type": "markdown",
      "metadata": {
        "id": "FEk1WZnZ-y2Q"
      },
      "source": [
        "# Cài và import thư viện"
      ]
    },
    {
      "cell_type": "code",
      "metadata": {
        "id": "0V7H-QG23w0H"
      },
      "source": [
        "# cài thư viện\n",
        "%cd mmdetection\n",
        "!pip install -r requirements/build.txt\n",
        "!pip install \"git+https://github.com/open-mmlab/cocoapi.git#subdirectory=pycocotools\"\n",
        "!pip install -v -e .  # or \"python setup.py develop\"\n",
        "!pip install mmcv-full==1.3.8 -f https://download.openmmlab.com/mmcv/dist/cu101/torch1.7.0/index.html\n",
        "!pip install torch==1.7.1 torchvision==0.8.2 torchaudio==0.7.2\n",
        "!pip install vietocr\n",
        "%cd .."
      ],
      "execution_count": null,
      "outputs": []
    },
    {
      "cell_type": "code",
      "metadata": {
        "id": "LD5IoYFR7PRf"
      },
      "source": [
        "# import thư viện\n",
        "%cd mmdetection\n",
        "from mmdet.apis import init_detector, inference_detector, show_result_pyplot\n",
        "import mmcv\n",
        "import numpy as np\n",
        "import glob\n",
        "import os\n",
        "import json\n",
        "from tqdm import notebook\n",
        "from scipy.ndimage import interpolation as inter\n",
        "import cv2\n",
        "from vietocr.tool.predictor import Predictor\n",
        "from vietocr.tool.config import Cfg\n",
        "from PIL import Image\n",
        "%cd .."
      ],
      "execution_count": null,
      "outputs": []
    },
    {
      "cell_type": "markdown",
      "metadata": {
        "id": "eEY5nGWids6I"
      },
      "source": [
        "# Test hiệu suất phát hiện đối tượng"
      ]
    },
    {
      "cell_type": "code",
      "metadata": {
        "id": "XifFmhIOdvrr"
      },
      "source": [
        "!python mmdetection/tools/test.py \\\n",
        "    ./models/detection/config_faster_rcnn_r50.py \\\n",
        "    ./models/detection/epoch_12.pth \\\n",
        "    --eval bbox --options \"classwise=True\" \\\n",
        "    # --options \"jsonfile_prefix=./results\""
      ],
      "execution_count": null,
      "outputs": []
    },
    {
      "cell_type": "code",
      "metadata": {
        "id": "mxVxfrNGhdj4"
      },
      "source": [
        "!pip3 install tidecv"
      ],
      "execution_count": null,
      "outputs": []
    },
    {
      "cell_type": "code",
      "metadata": {
        "id": "cvIHbccyi-K6"
      },
      "source": [
        "# Chỉ lấy key annotations ra để so\n",
        "import json\n",
        "with open('./annotations/test.json', 'r') as f:\n",
        "  annotations = json.load(f)\n",
        "\n",
        "for i in annotations['annotations']:\n",
        "  i['score'] = 1\n",
        "\n",
        "with open('./annotations/test_annotations.json', 'w') as f:\n",
        "  json.dump(annotations['annotations'], f)"
      ],
      "execution_count": null,
      "outputs": []
    },
    {
      "cell_type": "code",
      "metadata": {
        "id": "9nSHpCfLh7Lv"
      },
      "source": [
        "from tidecv import TIDE, datasets\n",
        "tide = TIDE()\n",
        "tide.evaluate_range(datasets.COCOResult('./annotations/test_annotations.json'), datasets.COCOResult('./results.bbox.json'), mode=TIDE.BOX) # Use TIDE.MASK for masks\n",
        "tide.summarize()  # Summarize the results as tables in the console\n",
        "tide.plot()       # Show a summary figure. Specify a folder and it'll output a png to that folder."
      ],
      "execution_count": null,
      "outputs": []
    },
    {
      "cell_type": "markdown",
      "metadata": {
        "id": "xif7C2iu-12t"
      },
      "source": [
        "# Baseline ra file submission.txt để nộp lên hệ thống AIHub"
      ]
    },
    {
      "cell_type": "code",
      "metadata": {
        "id": "gy_53bLU7r81"
      },
      "source": [
        "test_dir = './test_images'\n",
        "config_detection = './models/detection/config_faster_rcnn_r50.py'\n",
        "check_point_detection = './models/detection/epoch_12.pth'"
      ],
      "execution_count": null,
      "outputs": []
    },
    {
      "cell_type": "code",
      "metadata": {
        "id": "WXOfRP3N8FLd"
      },
      "source": [
        "# định nghĩa mô hình localization\n",
        "model = init_detector(config_detection, check_point_detection, device='cuda:0')\n",
        "score_thr = 0.85 #NGƯỠNG\n",
        "\n",
        "# định nghĩa mô hình recognition\n",
        "config_seller = Cfg.load_config_from_name('vgg_transformer')\n",
        "config_seller['weights'] = './models/recognition/seller.pth'\n",
        "config_seller['device'] = 'cuda:0'\n",
        "config_seller['predictor']['beamsearch']=False\n",
        "detector_seller = Predictor(config_seller)\n",
        "\n",
        "config_address = Cfg.load_config_from_name('vgg_transformer')\n",
        "config_address['weights'] = './models/recognition/address.pth'\n",
        "config_address['device'] = 'cuda:0'\n",
        "config_address['predictor']['beamsearch']=False\n",
        "detector_address = Predictor(config_address)\n",
        "\n",
        "config_timestamp = Cfg.load_config_from_name('vgg_transformer')\n",
        "config_timestamp['weights'] = './models/recognition/timestamp.pth'\n",
        "config_timestamp['device'] = 'cuda:0'\n",
        "config_timestamp['predictor']['beamsearch']=False\n",
        "detector_timestamp = Predictor(config_timestamp)\n",
        "\n",
        "config_totalcost = Cfg.load_config_from_name('vgg_transformer')\n",
        "config_totalcost['weights'] = './models/recognition/totalcost.pth'\n",
        "config_totalcost['device'] = 'cuda:0'\n",
        "config_totalcost['predictor']['beamsearch']=False\n",
        "detector_totalcost = Predictor(config_totalcost)\n",
        "\n",
        "dict_model_OCR = {\n",
        "    0: detector_seller,\n",
        "    1: detector_address,\n",
        "    2: detector_timestamp,\n",
        "    3: detector_totalcost,\n",
        "}"
      ],
      "execution_count": null,
      "outputs": []
    },
    {
      "cell_type": "code",
      "metadata": {
        "id": "t4wvyXPa-PuO"
      },
      "source": [
        "# Tải dữ liệu\n",
        "!bash download_data.sh"
      ],
      "execution_count": null,
      "outputs": []
    },
    {
      "cell_type": "code",
      "metadata": {
        "id": "OST7INa1E0_p"
      },
      "source": [
        "from utils import correct_skew, Sort_address, Sort_timestamp"
      ],
      "execution_count": null,
      "outputs": []
    },
    {
      "cell_type": "code",
      "metadata": {
        "id": "TAJnCI7O_84j"
      },
      "source": [
        "# Chạy ra kết quả detection\n",
        "imgs = [i.split('/')[-1] for i in glob.glob(os.path.join(test_dir, '*'))]\n",
        "dict_detection = {}\n",
        "\n",
        "print('Localization...')\n",
        "for i, img in notebook.tqdm(enumerate(imgs)):\n",
        "    img = os.path.join(test_dir, img)\n",
        "    file_name = imgs[i].split('/')[-1]\n",
        "    result = inference_detector(model, img)\n",
        "    dict_detection[file_name] = []\n",
        "\n",
        "    num = os.path.splitext(file_name.split(\"_\")[1])[0]\n",
        "\n",
        "    if isinstance(result, tuple):\n",
        "        bbox_result, segm_result = result\n",
        "        if isinstance(segm_result, tuple):\n",
        "            segm_result = segm_result[0]  # ms rcnn\n",
        "    else:\n",
        "        bbox_result, segm_result = result, None\n",
        "\n",
        "    bboxes = np.vstack(bbox_result)\n",
        "    labels = [\n",
        "        np.full(bbox.shape[0], i, dtype=np.int32)\n",
        "        for i, bbox in enumerate(bbox_result)\n",
        "    ]\n",
        "    labels = np.concatenate(labels)\n",
        "\n",
        "    scores = bboxes[:, -1]\n",
        "    inds = scores > score_thr\n",
        "    bboxes = bboxes[inds, :]\n",
        "    labels = labels[inds]\n",
        "    \n",
        "    lst_bboxes = []\n",
        "    for cls, bbox in zip(labels, bboxes):\n",
        "        lst_bboxes.append([str(cls), str(bbox[0]), str(bbox[1]), str(bbox[2]), str(bbox[3]), str(bbox[4])])\n",
        "\n",
        "    dict_detection[file_name] = lst_bboxes\n",
        "\n",
        "print('Rule-based...')\n",
        "\n",
        "# Sắp xếp lại bbox\n",
        "dict_per_cls = {}\n",
        "for img in dict_detection:\n",
        "    dict_per_cls[img] = {0: [], 1: [], 2: [], 3: []}\n",
        "    \n",
        "    # Chuẩn hóa bounding box\n",
        "    bboxes = dict_detection[img]\n",
        "    bboxes = [list(map(float, bbox)) for bbox in bboxes] # Chuyển về float\n",
        "    for bbox in bboxes:\n",
        "        try:\n",
        "            dict_per_cls[img][int(bbox[0])].append(bbox)\n",
        "        except:\n",
        "            pass\n",
        "\n",
        "    dict_per_cls[img][1] = Sort_address(dict_per_cls[img][1])\n",
        "    dict_per_cls[img][2] = Sort_timestamp(dict_per_cls[img][2])\n",
        "    dict_per_cls[img][3] = Sort_timestamp(dict_per_cls[img][3])\n",
        "\n",
        "\n",
        "print('Recognition...')\n",
        "dict_text = {}\n",
        "result_visualize = {}\n",
        "for img in notebook.tqdm(dict_per_cls):\n",
        "    image = cv2.imread(os.path.join(test_dir, img))\n",
        "    texts = []\n",
        "    list_loop_result = []\n",
        "    dict_cls = {0: [], 1: [], 2: [], 3: []}\n",
        "    dict_text[img] = []\n",
        "    for cls in dict_per_cls[img]:\n",
        "      dict_cls[cls] = []\n",
        "      for bbox in dict_per_cls[img][cls]:\n",
        "          score = float(bbox[-1])\n",
        "          dict_bbox = {}\n",
        "          x1,y1,x2,y2 = int(float(bbox[1])), int(float(bbox[2])), int(float(bbox[3])), int(float(bbox[4]))\n",
        "          dict_bbox['bbox'] = [x1,y1,x2,y2]\n",
        "          crop_img = image[y1:y2,x1:x2]\n",
        "          w, h = crop_img.shape[1], crop_img.shape[0]\n",
        "          if w <= h:\n",
        "              crop_img = cv2.rotate(crop_img, cv2.cv2.ROTATE_90_CLOCKWISE)\n",
        "          _, skewd = correct_skew(crop_img)\n",
        "          pil_image = Image.fromarray(skewd)\n",
        "          s = dict_model_OCR[cls].predict(pil_image)\n",
        "          dict_cls[cls].append(s)\n",
        "    dict_text[img] = dict_cls"
      ],
      "execution_count": null,
      "outputs": []
    },
    {
      "cell_type": "code",
      "metadata": {
        "id": "RFe8ZxxnKqrd"
      },
      "source": [
        "import pandas as pd\n",
        "df = pd.read_csv('./mcocr_test_samples_df.csv')\n",
        "imgs = df['img_id'].tolist()"
      ],
      "execution_count": null,
      "outputs": []
    },
    {
      "cell_type": "code",
      "metadata": {
        "id": "IkQwgib1IExj"
      },
      "source": [
        "# Xuất ra file detection\n",
        "import csv\n",
        "with open('results.csv', 'w') as f:\n",
        "    csv_writer = csv.writer(f, delimiter=',', quotechar='\"', quoting=csv.QUOTE_MINIMAL)\n",
        "    csv_writer.writerow(['img_id', 'anno_image_quality', 'anno_texts'])\n",
        "    for img in list(imgs):\n",
        "      if dict_text[img]:\n",
        "          seller = ' '.join(dict_text[img][0])\n",
        "          address = ' '.join(dict_text[img][1])\n",
        "          timestamp = ' '.join(dict_text[img][2])\n",
        "          totalcost = ' '.join(dict_text[img][3])\n",
        "          text = seller + '|||' + address + '|||' + timestamp + '|||' + totalcost\n",
        "          csv_writer.writerow([img, 0.5, text])\n",
        "      else:\n",
        "        csv_writer.writerow([img, 0.5, ''])"
      ],
      "execution_count": null,
      "outputs": []
    },
    {
      "cell_type": "code",
      "metadata": {
        "id": "6DOvnY1JJDcJ"
      },
      "source": [
        "!zip submission.zip results.csv"
      ],
      "execution_count": null,
      "outputs": []
    }
  ]
}